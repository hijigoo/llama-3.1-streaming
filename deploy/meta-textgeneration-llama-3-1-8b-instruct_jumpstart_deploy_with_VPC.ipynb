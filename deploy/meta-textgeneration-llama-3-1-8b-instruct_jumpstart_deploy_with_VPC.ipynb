{
 "cells": [
  {
   "cell_type": "markdown",
   "id": "caac7a72",
   "metadata": {},
   "source": [
    "# SageMaker JumpStart - deploy text generation model\n",
    "\n",
    "This notebook demonstrates how to use the SageMaker Python SDK to deploy a SageMaker JumpStart text generation model and invoke the endpoint."
   ]
  },
  {
   "cell_type": "code",
   "execution_count": 1,
   "id": "c9d34879-bf56-4aeb-8a67-fa85c7b7a092",
   "metadata": {},
   "outputs": [
    {
     "name": "stdout",
     "output_type": "stream",
     "text": [
      "sagemaker.config INFO - Not applying SDK defaults from location: /etc/xdg/sagemaker/config.yaml\n",
      "sagemaker.config INFO - Not applying SDK defaults from location: /home/sagemaker-user/.config/sagemaker/config.yaml\n"
     ]
    }
   ],
   "source": [
    "from sagemaker.jumpstart.model import JumpStartModel"
   ]
  },
  {
   "cell_type": "markdown",
   "id": "c1f55ea3-025d-4f77-83de-69ea3fe46cd5",
   "metadata": {},
   "source": [
    "Select your desired model ID. You can search for available models in the [Built-in Algorithms with pre-trained Model Table](https://sagemaker.readthedocs.io/en/stable/doc_utils/pretrainedmodels.html)."
   ]
  },
  {
   "cell_type": "code",
   "execution_count": 2,
   "id": "3763cc4c",
   "metadata": {
    "jumpStartAlterations": [
     "modelIdOnly"
    ],
    "tags": []
   },
   "outputs": [],
   "source": [
    "model_id = \"meta-textgeneration-llama-3-1-8b-instruct\""
   ]
  },
  {
   "cell_type": "markdown",
   "id": "a1af4672-93b5-4746-963f-c40cdd0ccb4d",
   "metadata": {},
   "source": [
    "If your selected model is gated, you will need to set `accept_eula` to True to accept the model end-user license agreement (EULA)."
   ]
  },
  {
   "cell_type": "code",
   "execution_count": 3,
   "id": "439bc3a3-15bc-4551-8c5d-8b592d298678",
   "metadata": {},
   "outputs": [],
   "source": [
    "accept_eula = True"
   ]
  },
  {
   "cell_type": "markdown",
   "id": "2bc40011-51f3-4787-ae1b-6b50a594cdf4",
   "metadata": {},
   "source": [
    "## Deploy model"
   ]
  },
  {
   "cell_type": "markdown",
   "id": "76d26926-152e-456c-8bc0-5d671fd61dac",
   "metadata": {},
   "source": [
    "Using the model ID, define your model as a JumpStart model. You can deploy the model on other instance types by passing `instance_type` to `JumpStartModel`. See [Deploy publicly available foundation models with the JumpStartModel class](https://docs.aws.amazon.com/sagemaker/latest/dg/jumpstart-foundation-models-use-python-sdk.html#jumpstart-foundation-models-use-python-sdk-model-class) for more configuration options."
   ]
  },
  {
   "cell_type": "code",
   "execution_count": 4,
   "id": "85a2a8e5-789f-4041-9927-221257126653",
   "metadata": {
    "tags": []
   },
   "outputs": [
    {
     "name": "stderr",
     "output_type": "stream",
     "text": [
      "Using model 'meta-textgeneration-llama-3-1-8b-instruct' with wildcard version identifier '*'. You can pin to version '2.2.1' for more stable results. Note that models may have different input/output signatures after a major version upgrade.\n"
     ]
    }
   ],
   "source": [
    "model = JumpStartModel(\n",
    "    model_id=model_id,\n",
    "    vpc_config={\n",
    "        \"Subnets\":[\"subnet-\"],  ## 사용할 subnet id 로 변경 필요\n",
    "        \"SecurityGroupIds\":[\"sg-\"] ## 사용할 security id 로 변경 필요\n",
    "    }\n",
    ")"
   ]
  },
  {
   "cell_type": "markdown",
   "id": "d314544f-e62e-4dfb-981c-659ee991791c",
   "metadata": {},
   "source": [
    "You can now deploy your JumpStart model. The deployment might take few minutes."
   ]
  },
  {
   "cell_type": "code",
   "execution_count": 5,
   "id": "56c7462a",
   "metadata": {},
   "outputs": [
    {
     "name": "stdout",
     "output_type": "stream",
     "text": [
      "------------!"
     ]
    }
   ],
   "source": [
    "predictor = model.deploy(accept_eula=accept_eula)"
   ]
  },
  {
   "cell_type": "markdown",
   "id": "a97bd778-5c62-4757-80ce-38c29275fa2a",
   "metadata": {},
   "source": [
    "## Invoke endpoint"
   ]
  },
  {
   "cell_type": "markdown",
   "id": "8ba7c729",
   "metadata": {},
   "source": [
    "Programmatically retrieve example playloads from the `JumpStartModel` object."
   ]
  },
  {
   "cell_type": "code",
   "execution_count": 6,
   "id": "7077afc0",
   "metadata": {},
   "outputs": [],
   "source": [
    "example_payloads = model.retrieve_all_examples()"
   ]
  },
  {
   "cell_type": "markdown",
   "id": "7ee929ec-7707-4c5c-8530-a3ad20f2b2c2",
   "metadata": {},
   "source": [
    "Now you can invoke the endpoint for each retrieved example payload."
   ]
  },
  {
   "cell_type": "code",
   "execution_count": 7,
   "id": "bf5899c8",
   "metadata": {},
   "outputs": [
    {
     "name": "stdout",
     "output_type": "stream",
     "text": [
      "Input:\n",
      " {'inputs': '<|begin_of_text|><|start_header_id|>user<|end_header_id|>\\n\\nwhat is the recipe of mayonnaise?<|eot_id|><|start_header_id|>assistant<|end_header_id|>\\n\\n', 'parameters': {'max_new_tokens': 256, 'top_p': 0.9, 'temperature': 0.6, 'details': True}}\n",
      "\n",
      "Output:\n",
      " The classic condiment! Mayonnaise is a thick, creamy sauce made from a mixture of oil, egg yolks, vinegar or lemon juice, and seasonings. Here's a simple recipe to make mayonnaise at home:\n",
      "\n",
      "**Basic Mayonnaise Recipe:**\n",
      "\n",
      "**Ingredients:**\n",
      "\n",
      "* 2 large egg yolks\n",
      "* 1 tablespoon (15 ml) lemon juice or vinegar (white wine vinegar or apple cider vinegar work well)\n",
      "* 1/2 cup (120 ml) neutral-tasting oil, such as canola or grapeseed oil\n",
      "* Salt, to taste\n",
      "* Optional: garlic, mustard, or other flavorings (see variations below)\n",
      "\n",
      "**Instructions:**\n",
      "\n",
      "1. **Separate the egg yolks**: Crack the eggs into a medium-sized bowl and separate the yolks from the whites. Set the whites aside for another use (e.g., making meringues or omelets).\n",
      "2. **Whisk the egg yolks**: Whisk the egg yolks together with a fork until they become light and fluffy.\n",
      "3. **Add the lemon juice or vinegar**: Whisk in the lemon juice or vinegar until well combined.\n",
      "4. **Slowly add the oil**: While continuously whisking the egg yolk mixture,\n",
      "\n",
      "\n",
      "Input:\n",
      " {'inputs': \"<|begin_of_text|><|start_header_id|>user<|end_header_id|>\\n\\nI am going to Paris, what should I see?<|eot_id|><|start_header_id|>assistant<|end_header_id|>\\n\\nParis, the capital of France, is known for its stunning architecture, art museums, historical landmarks, and romantic atmosphere. Here are some of the top attractions to see in Paris:\\n\\n1. The Eiffel Tower: The iconic Eiffel Tower is one of the most recognizable landmarks in the world and offers breathtaking views of the city.\\n2. The Louvre Museum: The Louvre is one of the world's largest and most famous museums, housing an impressive collection of art and artifacts, including the Mona Lisa.\\n3. Notre-Dame Cathedral: This beautiful cathedral is one of the most famous landmarks in Paris and is known for its Gothic architecture and stunning stained glass windows.\\n\\nThese are just a few of the many attractions that Paris has to offer. With so much to see and do, it's no wonder that Paris is one of the most popular tourist destinations in the world.<|eot_id|><|start_header_id|>user<|end_header_id|>\\n\\nWhat is so great about #1?<|eot_id|><|start_header_id|>assistant<|end_header_id|>\\n\\n\", 'parameters': {'max_new_tokens': 256, 'top_p': 0.9, 'temperature': 0.6}}\n",
      "\n",
      "Output:\n",
      " The Eiffel Tower! It's an iconic symbol of Paris and one of the most recognizable landmarks in the world. Here are some reasons why it's so great:\n",
      "\n",
      "1. **Engineering marvel**: The Eiffel Tower was a groundbreaking feat of engineering when it was built for the 1889 World's Fair. It's an iron lattice structure that was considered impossible to build at the time, but Gustave Eiffel's innovative design made it a reality.\n",
      "2. **Panoramic views**: The Eiffel Tower offers breathtaking 360-degree views of the city from its observation decks on the first and second floors. On a clear day, you can see for miles in every direction.\n",
      "3. **Romantic atmosphere**: The Eiffel Tower is a classic symbol of romance, and its twinkling lights at night make it a magical spot for couples and proposals.\n",
      "4. **History**: The Eiffel Tower has played a significant role in Parisian history, hosting famous visitors like Thomas Edison, who demonstrated his light bulb there, and being a symbol of French culture and engineering prowess.\n",
      "5. **Accessibility**: The Eiffel Tower is easily accessible by public transportation, and there are many restaurants and shops nearby, making it a convenient destination for tourists.\n",
      "\n",
      "\n",
      "Input:\n",
      " {'inputs': '<|begin_of_text|><|start_header_id|>system<|end_header_id|>\\n\\nAlways answer with Haiku<|eot_id|><|start_header_id|>user<|end_header_id|>\\n\\nI am going to Paris, what should I see?<|eot_id|><|start_header_id|>assistant<|end_header_id|>\\n\\n', 'parameters': {'max_new_tokens': 256, 'top_p': 0.9, 'temperature': 0.6}}\n",
      "\n",
      "Output:\n",
      " Eiffel Tower high\n",
      "River Seine's gentle waters\n",
      "Love in every stone\n",
      "\n",
      "\n",
      "Input:\n",
      " {'inputs': '<|begin_of_text|><|start_header_id|>system<|end_header_id|>\\n\\nAlways answer with emojis<|eot_id|><|start_header_id|>user<|end_header_id|>\\n\\nHow to go from Beijing to NY?<|eot_id|><|start_header_id|>assistant<|end_header_id|>\\n\\n', 'parameters': {'max_new_tokens': 256, 'top_p': 0.9, 'temperature': 0.6}}\n",
      "\n",
      "Output:\n",
      " ✈️🛫️🗺️\n",
      "\n",
      "\n"
     ]
    }
   ],
   "source": [
    "for payload in example_payloads:\n",
    "    response = predictor.predict(payload.body)\n",
    "    response = response[0] if isinstance(response, list) else response\n",
    "    print(\"Input:\\n\", payload.body, end=\"\\n\\n\")\n",
    "    print(\"Output:\\n\", response[\"generated_text\"].strip(), end=\"\\n\\n\\n\")"
   ]
  },
  {
   "cell_type": "markdown",
   "id": "4c63a4d6",
   "metadata": {},
   "source": [
    "This model supports the following common payload parameters. You may specify any subset of these parameters when invoking an endpoint.\n",
    "\n",
    "* **do_sample:** If True, activates logits sampling. If specified, it must be boolean.\n",
    "* **max_new_tokens:** Maximum number of generated tokens. If specified, it must be a positive integer.\n",
    "* **repetition_penalty:** A penalty for repetitive generated text. 1.0 means no penalty.\n",
    "* **return_full_text:** If True, input text will be part of the output generated text. If specified, it must be boolean. The default value for it is False.\n",
    "* **seed**: Random sampling seed.\n",
    "* **temperature:** Controls the randomness in the output. Higher temperature results in output sequence with low-probability words and lower temperature results in output sequence with high-probability words. If `temperature` -> 0, it results in greedy decoding. If specified, it must be a positive float.\n",
    "* **top_k:** In each step of text generation, sample from only the `top_k` most likely words. If specified, it must be a positive integer.\n",
    "* **top_p:** In each step of text generation, sample from the smallest possible set of words with cumulative probability `top_p`. If specified, it must be a float between 0 and 1.\n",
    "* **details:** Return generation details, to include output token logprobs and IDs.\n",
    "\n",
    "The model will also support additional payload parameters that are dependent on the image used for this model. You can find the default image by inspecting `model.image_uri`. For information on additional payload parameters, view [LMI input output schema](https://docs.djl.ai/docs/serving/serving/docs/lmi/user_guides/lmi_input_output_schema.html) or, for text generation inference (TGI), see the following list.\n",
    "* **stop**: If specified, it must a list of strings. Text generation stops if any one of the specified strings is generated.\n",
    "* **truncate:** Truncate inputs tokens to the given size.\n",
    "* **typical_p:** Typical decoding mass, according to [Typical Decoding for Natural Language Generation](https://arxiv.org/abs/2202.00666).\n",
    "* **best_of:** Generate best_of sequences and return the one if the highest token logprobs.\n",
    "* **watermark:** Whether to perform watermarking with [A Watermark for Large Language Models](https://arxiv.org/abs/2301.10226).\n",
    "* **decoder_input_details:** Return decoder input token logprobs and IDs.\n",
    "* **top_n_tokens:** Return the N most likely tokens at each step."
   ]
  },
  {
   "cell_type": "markdown",
   "id": "adb5db3d",
   "metadata": {},
   "source": [
    "## Clean up"
   ]
  },
  {
   "cell_type": "code",
   "execution_count": 8,
   "id": "b2d027be",
   "metadata": {},
   "outputs": [],
   "source": [
    "predictor.delete_predictor()"
   ]
  },
  {
   "cell_type": "code",
   "execution_count": null,
   "id": "1e50cf92-776f-41ec-afda-654afaaa6b1c",
   "metadata": {},
   "outputs": [],
   "source": []
  }
 ],
 "metadata": {
  "instance_type": "ml.t3.medium",
  "kernelspec": {
   "display_name": "Python 3 (ipykernel)",
   "language": "python",
   "name": "python3"
  },
  "language_info": {
   "codemirror_mode": {
    "name": "ipython",
    "version": 3
   },
   "file_extension": ".py",
   "mimetype": "text/x-python",
   "name": "python",
   "nbconvert_exporter": "python",
   "pygments_lexer": "ipython3",
   "version": "3.10.14"
  }
 },
 "nbformat": 4,
 "nbformat_minor": 5
}
