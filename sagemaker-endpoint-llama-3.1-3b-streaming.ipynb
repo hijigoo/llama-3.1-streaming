{
 "cells": [
  {
   "cell_type": "markdown",
   "id": "2bdb89e1-2087-489b-b6d4-f39ab0847c55",
   "metadata": {},
   "source": [
    "# Setting"
   ]
  },
  {
   "cell_type": "code",
   "execution_count": 1,
   "id": "d8098988-5ef1-4d2d-b3ca-221674adafbb",
   "metadata": {},
   "outputs": [],
   "source": [
    "import json\n",
    "import boto3\n",
    "import datetime\n",
    "\n",
    "sagemaker_runtime = boto3.client(\n",
    "    \"sagemaker-runtime\",\n",
    "    region_name='us-west-2'\n",
    ")\n",
    "\n",
    "endpoint_name='llama-3-1-8b-instruct-2024-09-04-15-37-21-104'"
   ]
  },
  {
   "cell_type": "markdown",
   "id": "a6b2f3e3",
   "metadata": {},
   "source": [
    "# Invoke"
   ]
  },
  {
   "cell_type": "code",
   "execution_count": null,
   "id": "179e2b29",
   "metadata": {},
   "outputs": [],
   "source": [
    "client = boto3.client(\"sagemaker-runtime\", region_name='us-west-2')\n",
    "\n",
    "prompt = \"Who am I?\"\n",
    "payload = {\n",
    "    \"inputs\": prompt,\n",
    "    \"parameters\": {\n",
    "        \"max_new_tokens\": 128,\n",
    "        \"top_p\": 0.9,\n",
    "        \"temperature\": 0.6,\n",
    "        # \"stream\": True,\n",
    "        # \"return_full_text\": False\n",
    "    }\n",
    "}\n",
    "\n",
    "time_to_first_token = -1\n",
    "start_time = datetime.datetime.now()\n",
    "\n",
    "response = client.invoke_endpoint(\n",
    "    EndpointName=endpoint_name,\n",
    "    ContentType=\"application/json\",\n",
    "    Body=json.dumps(payload),\n",
    ")\n",
    "\n",
    "# 응답 처리\n",
    "end_time = datetime.datetime.now()\n",
    "response_body = json.loads(response['Body'].read().decode())\n",
    "\n",
    "# 응답 시간 계산\n",
    "total_time = (end_time - start_time).total_seconds()\n",
    "\n",
    "# 결과 출력\n",
    "print(f\"Prompt: {prompt}\")\n",
    "print(f\"Response: {response_body}\")\n",
    "print(f\"Total time: {total_time:.2f} seconds\")"
   ]
  },
  {
   "cell_type": "markdown",
   "id": "2863b577-b7ea-443c-bff6-a43d636fc16b",
   "metadata": {},
   "source": [
    "# Streaming Invoke"
   ]
  },
  {
   "cell_type": "code",
   "execution_count": 2,
   "id": "843f8eea-ab03-4e88-8b3a-7cab5e3f0312",
   "metadata": {},
   "outputs": [],
   "source": [
    "class JSONStreamParser:\n",
    "    def __init__(self):\n",
    "        self.buffer = \"\"\n",
    "\n",
    "    def add_chunk(self, chunk):\n",
    "        self.buffer += chunk.decode('utf-8')\n",
    "\n",
    "        if not self.buffer or self.buffer[-1] != '\\n':\n",
    "            return\n",
    "        while True:\n",
    "            try:\n",
    "                obj, idx = json.JSONDecoder().raw_decode(self.buffer)\n",
    "                yield obj\n",
    "                self.buffer = self.buffer[idx:].lstrip()\n",
    "            except json.JSONDecodeError:\n",
    "                break"
   ]
  },
  {
   "cell_type": "code",
   "execution_count": 3,
   "id": "2104d334-82d0-46d1-84e3-c1644ae5051d",
   "metadata": {},
   "outputs": [],
   "source": [
    "parser = JSONStreamParser()\n",
    "\n",
    "def stream_response(client, endpoint_name, payload):\n",
    "    response = client.invoke_endpoint_with_response_stream(\n",
    "        EndpointName=endpoint_name,\n",
    "        ContentType=\"application/json\",\n",
    "        Body=json.dumps(payload),\n",
    "    )\n",
    "    \n",
    "    for event in response['Body']:\n",
    "        if 'PayloadPart' in event:\n",
    "            for obj in parser.add_chunk(event['PayloadPart']['Bytes']):\n",
    "                yield obj['token']['text']"
   ]
  },
  {
   "cell_type": "code",
   "execution_count": 4,
   "id": "2a5b7dbd-881d-4992-b924-b3d01a94950b",
   "metadata": {},
   "outputs": [
    {
     "name": "stdout",
     "output_type": "stream",
     "text": [
      "# Time taken for first token: 0.138198 seconds\n",
      "\n",
      " I am a 30-year-old woman who has been married for 10 years. I have two beautiful children, a boy and a girl, aged 7 and 4. I work part-time as a teacher and I love my job. I am a bit of a homebody and enjoy spending time with my family and friends. I love to cook and try out new recipes. I am a bit of a worrier and can get anxious at times, but I am working on it. I am a Christian and my faith is very important to me. I love to read and learn new things. I am a bit of a perfection"
     ]
    }
   ],
   "source": [
    "sagemaker_runtime = boto3.client(\"sagemaker-runtime\", region_name='us-west-2')\n",
    "\n",
    "prompt = \"Who am I?\"\n",
    "payload = {\n",
    "    \"inputs\": prompt,\n",
    "    \"parameters\": {\n",
    "        \"max_new_tokens\": 128,\n",
    "        \"top_p\": 0.9,\n",
    "        \"temperature\": 0.6,\n",
    "        \"stream\": True,\n",
    "        # \"return_full_text\": False\n",
    "    }\n",
    "}\n",
    "\n",
    "time_to_first_token = -1\n",
    "start_time = datetime.datetime.now()\n",
    "\n",
    "for chunk in stream_response(sagemaker_runtime, endpoint_name, payload):\n",
    "    if time_to_first_token < 0:\n",
    "        first_token_time = datetime.datetime.now()\n",
    "        time_to_first_token = (first_token_time - start_time).total_seconds()\n",
    "        print(f\"# Time taken for first token: {time_to_first_token} seconds\")\n",
    "        print()\n",
    "    print(chunk, end='', flush=True)"
   ]
  },
  {
   "cell_type": "code",
   "execution_count": null,
   "id": "3e901b99-389a-4724-9f1f-f6cd7da44ba3",
   "metadata": {},
   "outputs": [],
   "source": []
  }
 ],
 "metadata": {
  "kernelspec": {
   "display_name": "Python 3 (ipykernel)",
   "language": "python",
   "name": "python3"
  },
  "language_info": {
   "codemirror_mode": {
    "name": "ipython",
    "version": 3
   },
   "file_extension": ".py",
   "mimetype": "text/x-python",
   "name": "python",
   "nbconvert_exporter": "python",
   "pygments_lexer": "ipython3",
   "version": "3.10.14"
  }
 },
 "nbformat": 4,
 "nbformat_minor": 5
}
